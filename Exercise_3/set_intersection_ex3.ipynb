{
 "cells": [
  {
   "cell_type": "code",
   "execution_count": null,
   "id": "0cd2e025",
   "metadata": {},
   "outputs": [],
   "source": [
    "#Function to find intersection of two sets\n",
    "def set_intersection(s1, s2):\n",
    "    return s1.intersetion(s2)\n",
    "\n",
    "print(set_intersectio({1,2,3}, ))"
   ]
  }
 ],
 "metadata": {
  "kernelspec": {
   "display_name": "Python 3 (ipykernel)",
   "language": "python",
   "name": "python3"
  },
  "language_info": {
   "codemirror_mode": {
    "name": "ipython",
    "version": 3
   },
   "file_extension": ".py",
   "mimetype": "text/x-python",
   "name": "python",
   "nbconvert_exporter": "python",
   "pygments_lexer": "ipython3",
   "version": "3.11.5"
  }
 },
 "nbformat": 4,
 "nbformat_minor": 5
}
