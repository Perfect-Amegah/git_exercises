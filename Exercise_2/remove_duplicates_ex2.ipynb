{
 "cells": [
  {
   "cell_type": "code",
   "execution_count": 1,
   "id": "cdd58bb9",
   "metadata": {},
   "outputs": [
    {
     "name": "stdout",
     "output_type": "stream",
     "text": [
      "[1, 2, 3, 4, 5, 6, 7]\n"
     ]
    }
   ],
   "source": [
    "#Function to remove duplicates in a list\n",
    "def remove_duplicates(ls):\n",
    "    new_list = []\n",
    "    for i in ls:\n",
    "        if i not in new_list:\n",
    "            new_list.append(i)\n",
    "    return new_list\n",
    "\n",
    "print(remove_duplicates([1, 1, 2, 2, 3, 4, 5, 5, 6, 6, 7, 7]))"
   ]
  },
  {
   "cell_type": "code",
   "execution_count": null,
   "id": "6ff18be1",
   "metadata": {},
   "outputs": [],
   "source": []
  }
 ],
 "metadata": {
  "kernelspec": {
   "display_name": "Python 3 (ipykernel)",
   "language": "python",
   "name": "python3"
  },
  "language_info": {
   "codemirror_mode": {
    "name": "ipython",
    "version": 3
   },
   "file_extension": ".py",
   "mimetype": "text/x-python",
   "name": "python",
   "nbconvert_exporter": "python",
   "pygments_lexer": "ipython3",
   "version": "3.11.5"
  }
 },
 "nbformat": 4,
 "nbformat_minor": 5
}
