{
 "cells": [
  {
   "cell_type": "code",
   "execution_count": 2,
   "id": "d9a0b748",
   "metadata": {},
   "outputs": [
    {
     "name": "stdout",
     "output_type": "stream",
     "text": [
      "True\n"
     ]
    }
   ],
   "source": [
    "#Function to check if two strings are anagrams\n",
    "def anagrams(str1, str2):\n",
    "    str1 = str1.replace(\" \", \" \").lower()\n",
    "    str2 = str2.replace(\" \", \" \").lower()\n",
    "    \n",
    "    if len(str1) != len(str2):\n",
    "        return False\n",
    "    \n",
    "    else:\n",
    "        return sorted(str1) == sorted(str2)\n",
    "    \n",
    "print(anagrams('study', 'dusty'))"
   ]
  }
 ],
 "metadata": {
  "kernelspec": {
   "display_name": "Python 3 (ipykernel)",
   "language": "python",
   "name": "python3"
  },
  "language_info": {
   "codemirror_mode": {
    "name": "ipython",
    "version": 3
   },
   "file_extension": ".py",
   "mimetype": "text/x-python",
   "name": "python",
   "nbconvert_exporter": "python",
   "pygments_lexer": "ipython3",
   "version": "3.11.5"
  }
 },
 "nbformat": 4,
 "nbformat_minor": 5
}
